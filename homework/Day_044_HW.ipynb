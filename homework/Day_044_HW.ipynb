{
 "cells": [
  {
   "cell_type": "markdown",
   "metadata": {},
   "source": [
    "## [作業重點]\n",
    "確保你了解隨機森林模型中每個超參數的意義，並觀察調整超參數對結果的影響"
   ]
  },
  {
   "cell_type": "markdown",
   "metadata": {},
   "source": [
    "## 作業\n",
    "\n",
    "1. 試著調整 RandomForestClassifier(...) 中的參數，並觀察是否會改變結果？\n",
    "2. 改用其他資料集 (boston, wine)，並與回歸模型與決策樹的結果進行比較"
   ]
  },
  {
   "cell_type": "code",
   "execution_count": 2,
   "metadata": {},
   "outputs": [],
   "source": [
    "from sklearn import datasets, metrics\n",
    "from sklearn.ensemble import RandomForestClassifier, RandomForestRegressor\n",
    "from sklearn.model_selection import train_test_split"
   ]
  },
  {
   "cell_type": "code",
   "execution_count": 3,
   "metadata": {},
   "outputs": [],
   "source": [
    "wine = datasets.load_wine()\n",
    "boston = datasets.load_boston()\n",
    "x1_train,x1_test,y1_train,y1_test = train_test_split(wine.data,wine.target,test_size=0.2,random_state=1485)\n",
    "x2_train,x2_test,y2_train,y2_test = train_test_split(boston.data,boston.target,test_size=0.2,random_state=1485)\n",
    "rfc = RandomForestClassifier(n_estimators=20,max_depth=4)\n",
    "rfr = RandomForestRegressor(n_estimators=20,max_depth=4)"
   ]
  },
  {
   "cell_type": "code",
   "execution_count": 5,
   "metadata": {},
   "outputs": [
    {
     "name": "stdout",
     "output_type": "stream",
     "text": [
      "wine: 1.0\n",
      "boston: 11.770721558149733\n"
     ]
    }
   ],
   "source": [
    "rfc.fit(x1_train,y1_train)\n",
    "rfr.fit(x2_train,y2_train)\n",
    "\n",
    "y1_pred = rfc.predict(x1_test)\n",
    "y2_pred = rfr.predict(x2_test)\n",
    "\n",
    "print('wine:',metrics.accuracy_score(y1_pred,y1_test))\n",
    "print('boston:',metrics.mean_squared_error(y2_pred,y2_test))"
   ]
  },
  {
   "cell_type": "code",
   "execution_count": null,
   "metadata": {},
   "outputs": [],
   "source": []
  }
 ],
 "metadata": {
  "kernelspec": {
   "display_name": "Python 3",
   "language": "python",
   "name": "python3"
  },
  "language_info": {
   "codemirror_mode": {
    "name": "ipython",
    "version": 3
   },
   "file_extension": ".py",
   "mimetype": "text/x-python",
   "name": "python",
   "nbconvert_exporter": "python",
   "pygments_lexer": "ipython3",
   "version": "3.7.3"
  }
 },
 "nbformat": 4,
 "nbformat_minor": 2
}
